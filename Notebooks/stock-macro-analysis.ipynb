{
 "cells": [
  {
   "cell_type": "code",
   "execution_count": null,
   "id": "eac5a268-966c-4b15-8b31-cd5897ac48f8",
   "metadata": {},
   "outputs": [],
   "source": [
    "import pandas as pd\n",
    "from tabulate import tabulate"
   ]
  },
  {
   "cell_type": "code",
   "execution_count": null,
   "id": "72ce545d-b64d-40ff-bc94-8328848d0388",
   "metadata": {},
   "outputs": [],
   "source": [
    "df1 = pd.read_csv('cleaned_stock_data.csv')\n",
    "df2 = pd.read_csv('world_bank_macro_data_standardized_sheet-xls - all_data.csv')"
   ]
  },
  {
   "cell_type": "code",
   "execution_count": null,
   "id": "f24879ef-a95e-4b69-a23e-6306e98efc85",
   "metadata": {},
   "outputs": [],
   "source": [
    "print(df1.head())\n",
    "print(df2.head())"
   ]
  },
  {
   "cell_type": "code",
   "execution_count": null,
   "id": "6ce53c94-696b-4fa0-be8c-1b5e36d1c77b",
   "metadata": {},
   "outputs": [],
   "source": [
    "print(df1.info())\n",
    "print(\"\\n\")\n",
    "print(df2.info())"
   ]
  },
  {
   "cell_type": "code",
   "execution_count": null,
   "id": "8e784ffe-a314-4a83-ab18-f5042b522c3d",
   "metadata": {},
   "outputs": [],
   "source": [
    "print(df1)\n",
    "print(df2)"
   ]
  },
  {
   "cell_type": "code",
   "execution_count": null,
   "id": "47e2ed57-b0d9-400b-9e0f-044056bd45f9",
   "metadata": {},
   "outputs": [],
   "source": [
    "japan_df = df2[df2['Country'] == 'Japan']\n",
    "print(japan_df)"
   ]
  },
  {
   "cell_type": "code",
   "execution_count": null,
   "id": "2622d8da-dd7f-4848-b92f-012954fb1978",
   "metadata": {},
   "outputs": [],
   "source": [
    "index_country_map = {\n",
    "    \"S&P 500 (USA)\" : \"USA\",\n",
    "    \"WTI Crude Oil (CL=F)\" : \"GLOBAL\",\n",
    "    \"DAX (Germany)\" : \"DEU\",\n",
    "    \"Nifty 50 (India)\" : \"IND\",\n",
    "    \"Shanghai Composite (China)\": \"CHN\" ,\n",
    "    \"Nikkei 225 (Japan)\" : \"JPN\"\n",
    "}"
   ]
  },
  {
   "cell_type": "code",
   "execution_count": null,
   "id": "53271c8b-0eb4-42b7-ae10-98b85d202232",
   "metadata": {},
   "outputs": [],
   "source": [
    "print(index_country_map.values())"
   ]
  },
  {
   "cell_type": "code",
   "execution_count": null,
   "id": "89410fc2-32a0-4e90-9927-03a4ccecb2cd",
   "metadata": {},
   "outputs": [],
   "source": [
    "df1['Date'] = pd.to_datetime(df1['Date'])\n",
    "df1['Year'] = df1['Date'].dt.year"
   ]
  },
  {
   "cell_type": "code",
   "execution_count": null,
   "id": "11399269-5719-4124-a429-7cc7f8dbd5cf",
   "metadata": {},
   "outputs": [],
   "source": [
    "grouped = df1.sort_values('Date').groupby(['Index', 'Year'])\n",
    "annual = grouped.agg(First_Close=('Close','first'), Last_Close=('Close','last')).reset_index()\n",
    "print(annual)"
   ]
  },
  {
   "cell_type": "code",
   "execution_count": null,
   "id": "ec45a6aa-818a-4cbc-8c12-601452f34854",
   "metadata": {},
   "outputs": [],
   "source": [
    "# annual.drop('annual_return_pct', axis=1, inplace=True)"
   ]
  },
  {
   "cell_type": "code",
   "execution_count": null,
   "id": "ac78d5ba-b999-42ea-b1ab-de5ac3830c9c",
   "metadata": {},
   "outputs": [],
   "source": [
    "annual['Annual_Return_Pct'] = (((annual['Last_Close']) - (annual['First_Close'])) / (annual['First_Close'])) * 100\n",
    "annual['Annual_Return_Pct'] = annual['Annual_Return_Pct'].round()\n",
    "print(annual[['Index', 'Year', 'Annual_Return_Pct']])"
   ]
  },
  {
   "cell_type": "code",
   "execution_count": null,
   "id": "03cdd77f-425d-4f6c-bd85-7b2bc6fbca8d",
   "metadata": {},
   "outputs": [],
   "source": [
    "print(df1.head())"
   ]
  },
  {
   "cell_type": "code",
   "execution_count": null,
   "id": "d44981db-dbdc-469e-a303-fe3d52328c01",
   "metadata": {},
   "outputs": [],
   "source": [
    "df1['CountryCode'] = df1['Index'].map(index_country_map)"
   ]
  },
  {
   "cell_type": "code",
   "execution_count": null,
   "id": "22462443-83d8-48ba-a96d-79f8a44ab48f",
   "metadata": {},
   "outputs": [],
   "source": [
    "print(df1[['Index','CountryCode']])"
   ]
  },
  {
   "cell_type": "code",
   "execution_count": null,
   "id": "83e89f39-e482-41bc-a548-df6983d46146",
   "metadata": {},
   "outputs": [],
   "source": [
    "oil_df = df1[df1['CountryCode'] == 'GLOBAL'].copy()"
   ]
  },
  {
   "cell_type": "code",
   "execution_count": null,
   "id": "b2a1c650-dd37-4061-912b-4c099ff09dff",
   "metadata": {},
   "outputs": [],
   "source": [
    "print(oil_df)"
   ]
  },
  {
   "cell_type": "code",
   "execution_count": null,
   "id": "0334c8f3-afbd-4479-bd67-296bd812ca86",
   "metadata": {},
   "outputs": [],
   "source": [
    "annual['CountryCode'] = annual['Index'].map(index_country_map)"
   ]
  },
  {
   "cell_type": "code",
   "execution_count": null,
   "id": "84dfa8ca-2aba-4a3f-ac75-f25c4e7ab188",
   "metadata": {},
   "outputs": [],
   "source": [
    "print(annual)"
   ]
  },
  {
   "cell_type": "code",
   "execution_count": null,
   "id": "470fc022-88ff-493e-ad49-477a549c93e9",
   "metadata": {},
   "outputs": [],
   "source": [
    "print(df2)"
   ]
  },
  {
   "cell_type": "code",
   "execution_count": null,
   "id": "18c176fe-cdd2-453f-b978-3a5f4e398659",
   "metadata": {},
   "outputs": [],
   "source": [
    "annual_no_oil = annual[annual['CountryCode'] != 'GLOBAL']\n",
    "merged_df = pd.merge(\n",
    "    annual_no_oil,\n",
    "    df2,\n",
    "    on=['CountryCode','Year'],\n",
    "    how='inner'\n",
    ")"
   ]
  },
  {
   "cell_type": "code",
   "execution_count": null,
   "id": "f6d277f4-1411-4ed2-bb19-f99eb4aa8a4f",
   "metadata": {},
   "outputs": [],
   "source": [
    "print(merged_df)"
   ]
  },
  {
   "cell_type": "code",
   "execution_count": null,
   "id": "63bee25c-fecd-46a4-a8e4-526cfe3ca6b0",
   "metadata": {},
   "outputs": [],
   "source": [
    "correlation = merged_df.corr(numeric_only=True)['Annual_Return_Pct'].sort_values(ascending=False)\n",
    "print(correlation)"
   ]
  },
  {
   "cell_type": "code",
   "execution_count": null,
   "id": "8ca3ed90-bb42-405d-abed-327060858783",
   "metadata": {},
   "outputs": [],
   "source": [
    "import seaborn as sns\n",
    "import matplotlib.pyplot as plt\n",
    "\n",
    "sns.scatterplot(data=merged_df, x='Inflation (Annual %)', y='Annual_Return_Pct', hue='Country')\n",
    "plt.title(\"Stock Return vs Inflation\")\n",
    "plt.grid(True)\n",
    "plt.show()"
   ]
  },
  {
   "cell_type": "code",
   "execution_count": null,
   "id": "04b6518f-a098-4f0d-a66a-b16ad3ee829b",
   "metadata": {},
   "outputs": [],
   "source": [
    "merged_df.groupby('Year')['Annual_Return_Pct'].mean().plot(marker='o', title='Average Stock Returns Over Years')\n",
    "plt.ylabel(\"Avg Annual Return (%)\")\n",
    "plt.grid(True)\n",
    "plt.show()"
   ]
  },
  {
   "cell_type": "code",
   "execution_count": null,
   "id": "15887b08-7485-4327-a2ba-f60cf75ad287",
   "metadata": {},
   "outputs": [],
   "source": [
    "top_growth = merged_df[merged_df['GDP Growth (Annual %)'] > 5]\n",
    "top = top_growth.sort_values(by='Annual_Return_Pct', ascending=False)[['Year', 'Country', 'Annual_Return_Pct', 'GDP Growth (Annual %)']]\n",
    "print(top.head(10))"
   ]
  },
  {
   "cell_type": "code",
   "execution_count": null,
   "id": "2de2d6e8-b10f-4e87-90ef-62c8cad42f7a",
   "metadata": {},
   "outputs": [],
   "source": [
    "# Can we guess the stock return by looking at economic indicators?\n",
    "\n",
    "from sklearn.linear_model import LinearRegression\n",
    "\n",
    "# X is a table of 4 macro indicators (our inputs/features)\n",
    "X = merged_df[['Inflation (Annual %)', 'GDP Growth (Annual %)', 'FDI Net Inflows (% of GDP)', 'Gross Savings (% of GDP)']]\n",
    "# y is the actual annual stock return (our output/target)\n",
    "y = merged_df['Annual_Return_Pct']\n",
    "\n",
    "model = LinearRegression()\n",
    "model.fit(X, y)\n",
    "\n",
    "print(\"Coefficients:\", dict(zip(X.columns, model.coef_)))\n",
    "print(\"Intercept:\", model.intercept_)"
   ]
  },
  {
   "cell_type": "code",
   "execution_count": null,
   "id": "a0b71b25-f4db-4a47-ba3a-6bf8d13c78ca",
   "metadata": {},
   "outputs": [],
   "source": [
    "# R² Score (Goodness of Fit)\n",
    "from sklearn.metrics import r2_score\n",
    "\n",
    "# Predict values\n",
    "y_pred = model.predict(X)\n",
    "\n",
    "# Calculate R²\n",
    "r2 = r2_score(y, y_pred)\n",
    "print(f\"R² score: {r2:.4f}\")"
   ]
  },
  {
   "cell_type": "code",
   "execution_count": null,
   "id": "8e2d1173-3ad3-4842-bea3-16f889a2d2c2",
   "metadata": {},
   "outputs": [],
   "source": [
    "# p-values (statistical significance)\n",
    "import statsmodels.api as sm\n",
    "\n",
    "# Add constant for intercept\n",
    "X_sm = sm.add_constant(X)\n",
    "\n",
    "# Fit OLS model\n",
    "ols_model = sm.OLS(y, X_sm).fit()\n",
    "\n",
    "# Summary includes p-values, R², etc.\n",
    "print(ols_model.summary())\n",
    "\n",
    "# Model Fit: Poor (R² = 0.16) — the macro variables barely explain the variation in stock returns.\n",
    "# Predictors: None of the independent variables are statistically significant at 95% confidence, though Gross Savings comes close."
   ]
  },
  {
   "cell_type": "code",
   "execution_count": null,
   "id": "2354ca5b-715e-4544-a6e2-6d23df869570",
   "metadata": {},
   "outputs": [],
   "source": [
    "plt.figure(figsize=(8, 6))\n",
    "plt.scatter(y, y_pred, color='blue', label='Predictions')\n",
    "plt.plot([-20, 30], [-20, 30], color='red', linewidth=2, label='Ideal Fit Line')\n",
    "plt.xlabel(\"Actual Annual Return (%)\")\n",
    "plt.ylabel(\"Predicted Annual Return (%)\")\n",
    "plt.title(\"Actual vs. Predicted Returns\")\n",
    "plt.grid(True)\n",
    "plt.legend()\n",
    "plt.show()"
   ]
  },
  {
   "cell_type": "code",
   "execution_count": null,
   "id": "fefdecc3-af41-404a-957b-2faaf5dd8735",
   "metadata": {},
   "outputs": [],
   "source": [
    "# Only numeric columns of interest\n",
    "corr_columns = ['Annual_Return_Pct', 'Inflation (Annual %)', 'GDP Growth (Annual %)',\n",
    "                'FDI Net Inflows (% of GDP)', 'Gross Savings (% of GDP)']\n",
    "corr = merged_df[corr_columns].corr()\n",
    "\n",
    "plt.figure(figsize=(8, 6))\n",
    "sns.heatmap(corr, annot=True, cmap=\"coolwarm\", fmt=\".2f\")\n",
    "plt.title(\"Correlation Between Macro Indicators and Annual Stock Returns\")\n",
    "plt.show()"
   ]
  },
  {
   "cell_type": "code",
   "execution_count": null,
   "id": "9406a238-1379-4d98-83fe-dce4581c2f93",
   "metadata": {},
   "outputs": [],
   "source": [
    "plt.figure(figsize=(10, 6))\n",
    "sns.lineplot(data=merged_df, x='Year', y='Annual_Return_Pct', hue='Country', marker='o')\n",
    "plt.title(\"Annual Stock Returns Over Time by Country\")\n",
    "plt.ylabel(\"Annual Return (%)\")\n",
    "plt.xlabel(\"Year\")\n",
    "plt.legend(title='Country')\n",
    "plt.grid(True)\n",
    "plt.show()"
   ]
  },
  {
   "cell_type": "code",
   "execution_count": null,
   "id": "a2ff73ce-76d2-4da9-ae34-2ae8114819cf",
   "metadata": {},
   "outputs": [],
   "source": [
    "# Filter for India only\n",
    "india_df = merged_df[merged_df['Country'] == 'India']\n",
    "\n",
    "# Choose relevant numeric columns\n",
    "corr_columns = [\n",
    "    'Annual_Return_Pct',\n",
    "    'Inflation (Annual %)',\n",
    "    'GDP Growth (Annual %)',\n",
    "    'FDI Net Inflows (% of GDP)',\n",
    "    'Gross Savings (% of GDP)'\n",
    "]\n",
    "\n",
    "# Compute correlation matrix\n",
    "india_corr = india_df[corr_columns].corr()\n",
    "\n",
    "# Plot heatmap\n",
    "plt.figure(figsize=(8, 6))\n",
    "sns.heatmap(india_corr, annot=True, cmap=\"YlGnBu\", fmt=\".2f\")\n",
    "plt.title(\"Correlation Heatmap: India Only\")\n",
    "plt.show()"
   ]
  },
  {
   "cell_type": "code",
   "execution_count": null,
   "id": "3946ae54-a19d-424c-9ce2-b59e08788f5e",
   "metadata": {},
   "outputs": [],
   "source": [
    "# Filter for USA only\n",
    "usa_df = merged_df[merged_df['Country'] == 'USA']\n",
    "\n",
    "# Select relevant numeric columns\n",
    "corr_columns = [\n",
    "    'Annual_Return_Pct',\n",
    "    'Inflation (Annual %)',\n",
    "    'GDP Growth (Annual %)',\n",
    "    'FDI Net Inflows (% of GDP)',\n",
    "    'Gross Savings (% of GDP)'\n",
    "]\n",
    "\n",
    "# Compute correlation matrix\n",
    "usa_corr = usa_df[corr_columns].corr()\n",
    "\n",
    "# Plot heatmap\n",
    "plt.figure(figsize=(8, 6))\n",
    "sns.heatmap(usa_corr, annot=True, cmap=\"coolwarm\", fmt=\".2f\")\n",
    "plt.title(\"Correlation Heatmap: USA Only\")\n",
    "plt.show()\n",
    "\n",
    "# A positive correlation (close to +1) suggests both rise together.\n",
    "# A negative correlation (close to -1) suggests one rises while the other falls.\n",
    "# Near 0 means little to no relationship."
   ]
  }
 ],
 "metadata": {
  "kernelspec": {
   "display_name": "Python [conda env:base] *",
   "language": "python",
   "name": "conda-base-py"
  },
  "language_info": {
   "codemirror_mode": {
    "name": "ipython",
    "version": 3
   },
   "file_extension": ".py",
   "mimetype": "text/x-python",
   "name": "python",
   "nbconvert_exporter": "python",
   "pygments_lexer": "ipython3",
   "version": "3.12.7"
  }
 },
 "nbformat": 4,
 "nbformat_minor": 5
}
